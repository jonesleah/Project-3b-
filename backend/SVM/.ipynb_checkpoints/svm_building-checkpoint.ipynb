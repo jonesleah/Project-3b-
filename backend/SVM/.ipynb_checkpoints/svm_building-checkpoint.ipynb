{
 "cells": [
  {
   "cell_type": "code",
   "execution_count": 1,
   "id": "8b5a1374-592e-42ed-a6a3-b11b95c0ec38",
   "metadata": {},
   "outputs": [],
   "source": [
    "import numpy as np\n",
    "import pandas as pd\n",
    "import matplotlib.pyplot as plt\n",
    "from sklearn import svm"
   ]
  },
  {
   "cell_type": "markdown",
   "id": "aca2917f-45e2-4c0a-8212-476343369193",
   "metadata": {},
   "source": [
    "# Inspect and clean data"
   ]
  },
  {
   "cell_type": "code",
   "execution_count": 3,
   "id": "0fe7a031-56d7-42cd-8c6e-611f7eee5ee0",
   "metadata": {},
   "outputs": [
    {
     "data": {
      "text/html": [
       "<div>\n",
       "<style scoped>\n",
       "    .dataframe tbody tr th:only-of-type {\n",
       "        vertical-align: middle;\n",
       "    }\n",
       "\n",
       "    .dataframe tbody tr th {\n",
       "        vertical-align: top;\n",
       "    }\n",
       "\n",
       "    .dataframe thead th {\n",
       "        text-align: right;\n",
       "    }\n",
       "</style>\n",
       "<table border=\"1\" class=\"dataframe\">\n",
       "  <thead>\n",
       "    <tr style=\"text-align: right;\">\n",
       "      <th></th>\n",
       "      <th>Message ID</th>\n",
       "      <th>Subject</th>\n",
       "      <th>Message</th>\n",
       "      <th>Spam/Ham</th>\n",
       "      <th>Date</th>\n",
       "    </tr>\n",
       "  </thead>\n",
       "  <tbody>\n",
       "    <tr>\n",
       "      <th>0</th>\n",
       "      <td>0</td>\n",
       "      <td>christmas tree farm pictures</td>\n",
       "      <td>NaN</td>\n",
       "      <td>ham</td>\n",
       "      <td>1999-12-10</td>\n",
       "    </tr>\n",
       "    <tr>\n",
       "      <th>1</th>\n",
       "      <td>1</td>\n",
       "      <td>vastar resources , inc .</td>\n",
       "      <td>gary , production from the high island larger ...</td>\n",
       "      <td>ham</td>\n",
       "      <td>1999-12-13</td>\n",
       "    </tr>\n",
       "    <tr>\n",
       "      <th>2</th>\n",
       "      <td>2</td>\n",
       "      <td>calpine daily gas nomination</td>\n",
       "      <td>- calpine daily gas nomination 1 . doc</td>\n",
       "      <td>ham</td>\n",
       "      <td>1999-12-14</td>\n",
       "    </tr>\n",
       "    <tr>\n",
       "      <th>3</th>\n",
       "      <td>3</td>\n",
       "      <td>re : issue</td>\n",
       "      <td>fyi - see note below - already done .\\nstella\\...</td>\n",
       "      <td>ham</td>\n",
       "      <td>1999-12-14</td>\n",
       "    </tr>\n",
       "    <tr>\n",
       "      <th>4</th>\n",
       "      <td>4</td>\n",
       "      <td>meter 7268 nov allocation</td>\n",
       "      <td>fyi .\\n- - - - - - - - - - - - - - - - - - - -...</td>\n",
       "      <td>ham</td>\n",
       "      <td>1999-12-14</td>\n",
       "    </tr>\n",
       "    <tr>\n",
       "      <th>...</th>\n",
       "      <td>...</td>\n",
       "      <td>...</td>\n",
       "      <td>...</td>\n",
       "      <td>...</td>\n",
       "      <td>...</td>\n",
       "    </tr>\n",
       "    <tr>\n",
       "      <th>33711</th>\n",
       "      <td>33711</td>\n",
       "      <td>= ? iso - 8859 - 1 ? q ? good _ news _ c = eda...</td>\n",
       "      <td>hello , welcome to gigapharm onlinne shop .\\np...</td>\n",
       "      <td>spam</td>\n",
       "      <td>2005-07-29</td>\n",
       "    </tr>\n",
       "    <tr>\n",
       "      <th>33712</th>\n",
       "      <td>33712</td>\n",
       "      <td>all prescript medicines are on special . to be...</td>\n",
       "      <td>i got it earlier than expected and it was wrap...</td>\n",
       "      <td>spam</td>\n",
       "      <td>2005-07-29</td>\n",
       "    </tr>\n",
       "    <tr>\n",
       "      <th>33713</th>\n",
       "      <td>33713</td>\n",
       "      <td>the next generation online pharmacy .</td>\n",
       "      <td>are you ready to rock on ? let the man in you ...</td>\n",
       "      <td>spam</td>\n",
       "      <td>2005-07-30</td>\n",
       "    </tr>\n",
       "    <tr>\n",
       "      <th>33714</th>\n",
       "      <td>33714</td>\n",
       "      <td>bloow in 5 - 10 times the time</td>\n",
       "      <td>learn how to last 5 - 10 times longer in\\nbed ...</td>\n",
       "      <td>spam</td>\n",
       "      <td>2005-07-30</td>\n",
       "    </tr>\n",
       "    <tr>\n",
       "      <th>33715</th>\n",
       "      <td>33715</td>\n",
       "      <td>dear sir , i am interested in it</td>\n",
       "      <td>hi : )\\ndo you need some softwares ? i can giv...</td>\n",
       "      <td>spam</td>\n",
       "      <td>2005-07-31</td>\n",
       "    </tr>\n",
       "  </tbody>\n",
       "</table>\n",
       "<p>33716 rows × 5 columns</p>\n",
       "</div>"
      ],
      "text/plain": [
       "       Message ID                                            Subject  \\\n",
       "0               0                       christmas tree farm pictures   \n",
       "1               1                           vastar resources , inc .   \n",
       "2               2                       calpine daily gas nomination   \n",
       "3               3                                         re : issue   \n",
       "4               4                          meter 7268 nov allocation   \n",
       "...           ...                                                ...   \n",
       "33711       33711  = ? iso - 8859 - 1 ? q ? good _ news _ c = eda...   \n",
       "33712       33712  all prescript medicines are on special . to be...   \n",
       "33713       33713              the next generation online pharmacy .   \n",
       "33714       33714                     bloow in 5 - 10 times the time   \n",
       "33715       33715                   dear sir , i am interested in it   \n",
       "\n",
       "                                                 Message Spam/Ham        Date  \n",
       "0                                                    NaN      ham  1999-12-10  \n",
       "1      gary , production from the high island larger ...      ham  1999-12-13  \n",
       "2                 - calpine daily gas nomination 1 . doc      ham  1999-12-14  \n",
       "3      fyi - see note below - already done .\\nstella\\...      ham  1999-12-14  \n",
       "4      fyi .\\n- - - - - - - - - - - - - - - - - - - -...      ham  1999-12-14  \n",
       "...                                                  ...      ...         ...  \n",
       "33711  hello , welcome to gigapharm onlinne shop .\\np...     spam  2005-07-29  \n",
       "33712  i got it earlier than expected and it was wrap...     spam  2005-07-29  \n",
       "33713  are you ready to rock on ? let the man in you ...     spam  2005-07-30  \n",
       "33714  learn how to last 5 - 10 times longer in\\nbed ...     spam  2005-07-30  \n",
       "33715  hi : )\\ndo you need some softwares ? i can giv...     spam  2005-07-31  \n",
       "\n",
       "[33716 rows x 5 columns]"
      ]
     },
     "execution_count": 3,
     "metadata": {},
     "output_type": "execute_result"
    }
   ],
   "source": [
    "df = pd.read_csv(\"enron_spam_data.csv\")\n",
    "df"
   ]
  },
  {
   "cell_type": "code",
   "execution_count": 4,
   "id": "3d8b024e-71d2-4faf-8f9b-007094cb2cd8",
   "metadata": {},
   "outputs": [
    {
     "data": {
      "text/plain": [
       "<bound method DataFrame.info of        Message ID                                            Subject  \\\n",
       "0               0                       christmas tree farm pictures   \n",
       "1               1                           vastar resources , inc .   \n",
       "2               2                       calpine daily gas nomination   \n",
       "3               3                                         re : issue   \n",
       "4               4                          meter 7268 nov allocation   \n",
       "...           ...                                                ...   \n",
       "33711       33711  = ? iso - 8859 - 1 ? q ? good _ news _ c = eda...   \n",
       "33712       33712  all prescript medicines are on special . to be...   \n",
       "33713       33713              the next generation online pharmacy .   \n",
       "33714       33714                     bloow in 5 - 10 times the time   \n",
       "33715       33715                   dear sir , i am interested in it   \n",
       "\n",
       "                                                 Message Spam/Ham        Date  \n",
       "0                                                    NaN      ham  1999-12-10  \n",
       "1      gary , production from the high island larger ...      ham  1999-12-13  \n",
       "2                 - calpine daily gas nomination 1 . doc      ham  1999-12-14  \n",
       "3      fyi - see note below - already done .\\nstella\\...      ham  1999-12-14  \n",
       "4      fyi .\\n- - - - - - - - - - - - - - - - - - - -...      ham  1999-12-14  \n",
       "...                                                  ...      ...         ...  \n",
       "33711  hello , welcome to gigapharm onlinne shop .\\np...     spam  2005-07-29  \n",
       "33712  i got it earlier than expected and it was wrap...     spam  2005-07-29  \n",
       "33713  are you ready to rock on ? let the man in you ...     spam  2005-07-30  \n",
       "33714  learn how to last 5 - 10 times longer in\\nbed ...     spam  2005-07-30  \n",
       "33715  hi : )\\ndo you need some softwares ? i can giv...     spam  2005-07-31  \n",
       "\n",
       "[33716 rows x 5 columns]>"
      ]
     },
     "execution_count": 4,
     "metadata": {},
     "output_type": "execute_result"
    }
   ],
   "source": [
    "df.info"
   ]
  },
  {
   "cell_type": "code",
   "execution_count": 5,
   "id": "bd95e816-84aa-43ee-baab-55842b720cad",
   "metadata": {},
   "outputs": [
    {
     "data": {
      "text/plain": [
       "Message ID      0\n",
       "Subject       289\n",
       "Message       371\n",
       "Spam/Ham        0\n",
       "Date            0\n",
       "dtype: int64"
      ]
     },
     "execution_count": 5,
     "metadata": {},
     "output_type": "execute_result"
    }
   ],
   "source": [
    "df.isnull().sum()"
   ]
  },
  {
   "cell_type": "code",
   "execution_count": 6,
   "id": "cb1dc64c-1807-4155-ab7d-fccb70543655",
   "metadata": {},
   "outputs": [
    {
     "data": {
      "text/plain": [
       "0"
      ]
     },
     "execution_count": 6,
     "metadata": {},
     "output_type": "execute_result"
    }
   ],
   "source": [
    "df.duplicated().sum()"
   ]
  },
  {
   "cell_type": "code",
   "execution_count": 7,
   "id": "5d294a0e-954d-491a-b696-0b0faad3e938",
   "metadata": {},
   "outputs": [
    {
     "data": {
      "text/html": [
       "<div>\n",
       "<style scoped>\n",
       "    .dataframe tbody tr th:only-of-type {\n",
       "        vertical-align: middle;\n",
       "    }\n",
       "\n",
       "    .dataframe tbody tr th {\n",
       "        vertical-align: top;\n",
       "    }\n",
       "\n",
       "    .dataframe thead th {\n",
       "        text-align: right;\n",
       "    }\n",
       "</style>\n",
       "<table border=\"1\" class=\"dataframe\">\n",
       "  <thead>\n",
       "    <tr style=\"text-align: right;\">\n",
       "      <th></th>\n",
       "      <th>Message ID</th>\n",
       "      <th>Message</th>\n",
       "      <th>Spam/Ham</th>\n",
       "    </tr>\n",
       "  </thead>\n",
       "  <tbody>\n",
       "    <tr>\n",
       "      <th>1</th>\n",
       "      <td>1</td>\n",
       "      <td>gary , production from the high island larger ...</td>\n",
       "      <td>ham</td>\n",
       "    </tr>\n",
       "    <tr>\n",
       "      <th>2</th>\n",
       "      <td>2</td>\n",
       "      <td>- calpine daily gas nomination 1 . doc</td>\n",
       "      <td>ham</td>\n",
       "    </tr>\n",
       "    <tr>\n",
       "      <th>3</th>\n",
       "      <td>3</td>\n",
       "      <td>fyi - see note below - already done .\\nstella\\...</td>\n",
       "      <td>ham</td>\n",
       "    </tr>\n",
       "    <tr>\n",
       "      <th>4</th>\n",
       "      <td>4</td>\n",
       "      <td>fyi .\\n- - - - - - - - - - - - - - - - - - - -...</td>\n",
       "      <td>ham</td>\n",
       "    </tr>\n",
       "    <tr>\n",
       "      <th>5</th>\n",
       "      <td>5</td>\n",
       "      <td>jackie ,\\nsince the inlet to 3 river plant is ...</td>\n",
       "      <td>ham</td>\n",
       "    </tr>\n",
       "    <tr>\n",
       "      <th>...</th>\n",
       "      <td>...</td>\n",
       "      <td>...</td>\n",
       "      <td>...</td>\n",
       "    </tr>\n",
       "    <tr>\n",
       "      <th>33711</th>\n",
       "      <td>33711</td>\n",
       "      <td>hello , welcome to gigapharm onlinne shop .\\np...</td>\n",
       "      <td>spam</td>\n",
       "    </tr>\n",
       "    <tr>\n",
       "      <th>33712</th>\n",
       "      <td>33712</td>\n",
       "      <td>i got it earlier than expected and it was wrap...</td>\n",
       "      <td>spam</td>\n",
       "    </tr>\n",
       "    <tr>\n",
       "      <th>33713</th>\n",
       "      <td>33713</td>\n",
       "      <td>are you ready to rock on ? let the man in you ...</td>\n",
       "      <td>spam</td>\n",
       "    </tr>\n",
       "    <tr>\n",
       "      <th>33714</th>\n",
       "      <td>33714</td>\n",
       "      <td>learn how to last 5 - 10 times longer in\\nbed ...</td>\n",
       "      <td>spam</td>\n",
       "    </tr>\n",
       "    <tr>\n",
       "      <th>33715</th>\n",
       "      <td>33715</td>\n",
       "      <td>hi : )\\ndo you need some softwares ? i can giv...</td>\n",
       "      <td>spam</td>\n",
       "    </tr>\n",
       "  </tbody>\n",
       "</table>\n",
       "<p>33345 rows × 3 columns</p>\n",
       "</div>"
      ],
      "text/plain": [
       "       Message ID                                            Message Spam/Ham\n",
       "1               1  gary , production from the high island larger ...      ham\n",
       "2               2             - calpine daily gas nomination 1 . doc      ham\n",
       "3               3  fyi - see note below - already done .\\nstella\\...      ham\n",
       "4               4  fyi .\\n- - - - - - - - - - - - - - - - - - - -...      ham\n",
       "5               5  jackie ,\\nsince the inlet to 3 river plant is ...      ham\n",
       "...           ...                                                ...      ...\n",
       "33711       33711  hello , welcome to gigapharm onlinne shop .\\np...     spam\n",
       "33712       33712  i got it earlier than expected and it was wrap...     spam\n",
       "33713       33713  are you ready to rock on ? let the man in you ...     spam\n",
       "33714       33714  learn how to last 5 - 10 times longer in\\nbed ...     spam\n",
       "33715       33715  hi : )\\ndo you need some softwares ? i can giv...     spam\n",
       "\n",
       "[33345 rows x 3 columns]"
      ]
     },
     "execution_count": 7,
     "metadata": {},
     "output_type": "execute_result"
    }
   ],
   "source": [
    "# Only considering email bodies, so drop unnecessary columns and null messages\n",
    "df = df.drop(columns=[\"Subject\", \"Date\"])\n",
    "df = df.dropna(subset=[\"Message\"])\n",
    "df"
   ]
  },
  {
   "cell_type": "code",
   "execution_count": 8,
   "id": "e6b44f9c-ad2f-4bba-a093-746c47d07282",
   "metadata": {},
   "outputs": [
    {
     "data": {
      "text/plain": [
       "Message ID    0\n",
       "Message       0\n",
       "Spam/Ham      0\n",
       "dtype: int64"
      ]
     },
     "execution_count": 8,
     "metadata": {},
     "output_type": "execute_result"
    }
   ],
   "source": [
    "df.isnull().sum()"
   ]
  },
  {
   "cell_type": "code",
   "execution_count": 9,
   "id": "db85b5da-aa62-482e-ba03-7c37912f92b4",
   "metadata": {},
   "outputs": [
    {
     "data": {
      "text/html": [
       "<div>\n",
       "<style scoped>\n",
       "    .dataframe tbody tr th:only-of-type {\n",
       "        vertical-align: middle;\n",
       "    }\n",
       "\n",
       "    .dataframe tbody tr th {\n",
       "        vertical-align: top;\n",
       "    }\n",
       "\n",
       "    .dataframe thead th {\n",
       "        text-align: right;\n",
       "    }\n",
       "</style>\n",
       "<table border=\"1\" class=\"dataframe\">\n",
       "  <thead>\n",
       "    <tr style=\"text-align: right;\">\n",
       "      <th></th>\n",
       "      <th>Message ID</th>\n",
       "      <th>Message</th>\n",
       "      <th>Spam/Ham</th>\n",
       "    </tr>\n",
       "  </thead>\n",
       "  <tbody>\n",
       "    <tr>\n",
       "      <th>16841</th>\n",
       "      <td>16841</td>\n",
       "      <td>i left kathy a message at ( 970 ) 240 - 6206 o...</td>\n",
       "      <td>ham</td>\n",
       "    </tr>\n",
       "    <tr>\n",
       "      <th>30311</th>\n",
       "      <td>30311</td>\n",
       "      <td>= ? utf - 8 ? q ? ty monetary value ! ? =\\nsol...</td>\n",
       "      <td>spam</td>\n",
       "    </tr>\n",
       "    <tr>\n",
       "      <th>25457</th>\n",
       "      <td>25457</td>\n",
       "      <td>i encuentro / laboratorio de arte - acción en ...</td>\n",
       "      <td>spam</td>\n",
       "    </tr>\n",
       "  </tbody>\n",
       "</table>\n",
       "</div>"
      ],
      "text/plain": [
       "       Message ID                                            Message Spam/Ham\n",
       "16841       16841  i left kathy a message at ( 970 ) 240 - 6206 o...      ham\n",
       "30311       30311  = ? utf - 8 ? q ? ty monetary value ! ? =\\nsol...     spam\n",
       "25457       25457  i encuentro / laboratorio de arte - acción en ...     spam"
      ]
     },
     "execution_count": 9,
     "metadata": {},
     "output_type": "execute_result"
    }
   ],
   "source": [
    "df.sample(3)"
   ]
  },
  {
   "cell_type": "code",
   "execution_count": 10,
   "id": "7156c313-858b-4fdd-b824-3c6f83dbd80f",
   "metadata": {},
   "outputs": [
    {
     "data": {
      "text/html": [
       "<div>\n",
       "<style scoped>\n",
       "    .dataframe tbody tr th:only-of-type {\n",
       "        vertical-align: middle;\n",
       "    }\n",
       "\n",
       "    .dataframe tbody tr th {\n",
       "        vertical-align: top;\n",
       "    }\n",
       "\n",
       "    .dataframe thead th {\n",
       "        text-align: right;\n",
       "    }\n",
       "</style>\n",
       "<table border=\"1\" class=\"dataframe\">\n",
       "  <thead>\n",
       "    <tr style=\"text-align: right;\">\n",
       "      <th></th>\n",
       "      <th>Message</th>\n",
       "      <th>Spam/Ham</th>\n",
       "    </tr>\n",
       "  </thead>\n",
       "  <tbody>\n",
       "    <tr>\n",
       "      <th>1</th>\n",
       "      <td>gary , production from the high island larger ...</td>\n",
       "      <td>ham</td>\n",
       "    </tr>\n",
       "    <tr>\n",
       "      <th>2</th>\n",
       "      <td>- calpine daily gas nomination 1 . doc</td>\n",
       "      <td>ham</td>\n",
       "    </tr>\n",
       "    <tr>\n",
       "      <th>3</th>\n",
       "      <td>fyi - see note below - already done .\\nstella\\...</td>\n",
       "      <td>ham</td>\n",
       "    </tr>\n",
       "    <tr>\n",
       "      <th>4</th>\n",
       "      <td>fyi .\\n- - - - - - - - - - - - - - - - - - - -...</td>\n",
       "      <td>ham</td>\n",
       "    </tr>\n",
       "    <tr>\n",
       "      <th>5</th>\n",
       "      <td>jackie ,\\nsince the inlet to 3 river plant is ...</td>\n",
       "      <td>ham</td>\n",
       "    </tr>\n",
       "    <tr>\n",
       "      <th>...</th>\n",
       "      <td>...</td>\n",
       "      <td>...</td>\n",
       "    </tr>\n",
       "    <tr>\n",
       "      <th>33711</th>\n",
       "      <td>hello , welcome to gigapharm onlinne shop .\\np...</td>\n",
       "      <td>spam</td>\n",
       "    </tr>\n",
       "    <tr>\n",
       "      <th>33712</th>\n",
       "      <td>i got it earlier than expected and it was wrap...</td>\n",
       "      <td>spam</td>\n",
       "    </tr>\n",
       "    <tr>\n",
       "      <th>33713</th>\n",
       "      <td>are you ready to rock on ? let the man in you ...</td>\n",
       "      <td>spam</td>\n",
       "    </tr>\n",
       "    <tr>\n",
       "      <th>33714</th>\n",
       "      <td>learn how to last 5 - 10 times longer in\\nbed ...</td>\n",
       "      <td>spam</td>\n",
       "    </tr>\n",
       "    <tr>\n",
       "      <th>33715</th>\n",
       "      <td>hi : )\\ndo you need some softwares ? i can giv...</td>\n",
       "      <td>spam</td>\n",
       "    </tr>\n",
       "  </tbody>\n",
       "</table>\n",
       "<p>33345 rows × 2 columns</p>\n",
       "</div>"
      ],
      "text/plain": [
       "                                                 Message Spam/Ham\n",
       "1      gary , production from the high island larger ...      ham\n",
       "2                 - calpine daily gas nomination 1 . doc      ham\n",
       "3      fyi - see note below - already done .\\nstella\\...      ham\n",
       "4      fyi .\\n- - - - - - - - - - - - - - - - - - - -...      ham\n",
       "5      jackie ,\\nsince the inlet to 3 river plant is ...      ham\n",
       "...                                                  ...      ...\n",
       "33711  hello , welcome to gigapharm onlinne shop .\\np...     spam\n",
       "33712  i got it earlier than expected and it was wrap...     spam\n",
       "33713  are you ready to rock on ? let the man in you ...     spam\n",
       "33714  learn how to last 5 - 10 times longer in\\nbed ...     spam\n",
       "33715  hi : )\\ndo you need some softwares ? i can giv...     spam\n",
       "\n",
       "[33345 rows x 2 columns]"
      ]
     },
     "execution_count": 10,
     "metadata": {},
     "output_type": "execute_result"
    }
   ],
   "source": [
    "df = df.drop(columns=\"Message ID\")\n",
    "df"
   ]
  },
  {
   "cell_type": "code",
   "execution_count": 11,
   "id": "f2e0ae66-f13e-4f47-8e0e-f26f0abd41d7",
   "metadata": {},
   "outputs": [
    {
     "data": {
      "text/html": [
       "<div>\n",
       "<style scoped>\n",
       "    .dataframe tbody tr th:only-of-type {\n",
       "        vertical-align: middle;\n",
       "    }\n",
       "\n",
       "    .dataframe tbody tr th {\n",
       "        vertical-align: top;\n",
       "    }\n",
       "\n",
       "    .dataframe thead th {\n",
       "        text-align: right;\n",
       "    }\n",
       "</style>\n",
       "<table border=\"1\" class=\"dataframe\">\n",
       "  <thead>\n",
       "    <tr style=\"text-align: right;\">\n",
       "      <th></th>\n",
       "      <th>Message</th>\n",
       "      <th>Spam/Ham</th>\n",
       "    </tr>\n",
       "  </thead>\n",
       "  <tbody>\n",
       "    <tr>\n",
       "      <th>1</th>\n",
       "      <td>gary , production from the high island larger ...</td>\n",
       "      <td>0</td>\n",
       "    </tr>\n",
       "    <tr>\n",
       "      <th>2</th>\n",
       "      <td>- calpine daily gas nomination 1 . doc</td>\n",
       "      <td>0</td>\n",
       "    </tr>\n",
       "    <tr>\n",
       "      <th>3</th>\n",
       "      <td>fyi - see note below - already done .\\nstella\\...</td>\n",
       "      <td>0</td>\n",
       "    </tr>\n",
       "    <tr>\n",
       "      <th>4</th>\n",
       "      <td>fyi .\\n- - - - - - - - - - - - - - - - - - - -...</td>\n",
       "      <td>0</td>\n",
       "    </tr>\n",
       "    <tr>\n",
       "      <th>5</th>\n",
       "      <td>jackie ,\\nsince the inlet to 3 river plant is ...</td>\n",
       "      <td>0</td>\n",
       "    </tr>\n",
       "    <tr>\n",
       "      <th>...</th>\n",
       "      <td>...</td>\n",
       "      <td>...</td>\n",
       "    </tr>\n",
       "    <tr>\n",
       "      <th>33711</th>\n",
       "      <td>hello , welcome to gigapharm onlinne shop .\\np...</td>\n",
       "      <td>1</td>\n",
       "    </tr>\n",
       "    <tr>\n",
       "      <th>33712</th>\n",
       "      <td>i got it earlier than expected and it was wrap...</td>\n",
       "      <td>1</td>\n",
       "    </tr>\n",
       "    <tr>\n",
       "      <th>33713</th>\n",
       "      <td>are you ready to rock on ? let the man in you ...</td>\n",
       "      <td>1</td>\n",
       "    </tr>\n",
       "    <tr>\n",
       "      <th>33714</th>\n",
       "      <td>learn how to last 5 - 10 times longer in\\nbed ...</td>\n",
       "      <td>1</td>\n",
       "    </tr>\n",
       "    <tr>\n",
       "      <th>33715</th>\n",
       "      <td>hi : )\\ndo you need some softwares ? i can giv...</td>\n",
       "      <td>1</td>\n",
       "    </tr>\n",
       "  </tbody>\n",
       "</table>\n",
       "<p>33345 rows × 2 columns</p>\n",
       "</div>"
      ],
      "text/plain": [
       "                                                 Message  Spam/Ham\n",
       "1      gary , production from the high island larger ...         0\n",
       "2                 - calpine daily gas nomination 1 . doc         0\n",
       "3      fyi - see note below - already done .\\nstella\\...         0\n",
       "4      fyi .\\n- - - - - - - - - - - - - - - - - - - -...         0\n",
       "5      jackie ,\\nsince the inlet to 3 river plant is ...         0\n",
       "...                                                  ...       ...\n",
       "33711  hello , welcome to gigapharm onlinne shop .\\np...         1\n",
       "33712  i got it earlier than expected and it was wrap...         1\n",
       "33713  are you ready to rock on ? let the man in you ...         1\n",
       "33714  learn how to last 5 - 10 times longer in\\nbed ...         1\n",
       "33715  hi : )\\ndo you need some softwares ? i can giv...         1\n",
       "\n",
       "[33345 rows x 2 columns]"
      ]
     },
     "execution_count": 11,
     "metadata": {},
     "output_type": "execute_result"
    }
   ],
   "source": [
    "# Label spam/ham as 1/0, respectively\n",
    "df[\"Spam/Ham\"] = df[\"Spam/Ham\"].apply(lambda x: 1 if x == \"spam\" else 0)\n",
    "df"
   ]
  },
  {
   "cell_type": "markdown",
   "id": "487b27a3-588f-47b2-9c58-a30c2456f5a6",
   "metadata": {},
   "source": [
    "# Data visualization"
   ]
  },
  {
   "cell_type": "code",
   "execution_count": 13,
   "id": "4ab2b167-826b-46d4-bb66-3ce867c7a6f7",
   "metadata": {},
   "outputs": [
    {
     "data": {
      "text/plain": [
       "Spam/Ham\n",
       "1    16852\n",
       "0    16493\n",
       "Name: count, dtype: int64"
      ]
     },
     "execution_count": 13,
     "metadata": {},
     "output_type": "execute_result"
    }
   ],
   "source": [
    "df[\"Spam/Ham\"].value_counts()"
   ]
  },
  {
   "cell_type": "code",
   "execution_count": 14,
   "id": "5e5fed46-1b37-4420-8392-4dd8674b73d2",
   "metadata": {},
   "outputs": [],
   "source": [
    "# Pretty evenly distrubuted -> less bias"
   ]
  },
  {
   "cell_type": "code",
   "execution_count": 15,
   "id": "9a8db5c9-a9d3-46d6-934d-ef28a261c586",
   "metadata": {},
   "outputs": [
    {
     "name": "stderr",
     "output_type": "stream",
     "text": [
      "[nltk_data] Downloading package punkt to\n",
      "[nltk_data]     C:\\Users\\leahj\\AppData\\Roaming\\nltk_data...\n",
      "[nltk_data]   Package punkt is already up-to-date!\n"
     ]
    },
    {
     "data": {
      "text/plain": [
       "True"
      ]
     },
     "execution_count": 15,
     "metadata": {},
     "output_type": "execute_result"
    }
   ],
   "source": [
    "# Length of emails, number of words, and number of sentences\n",
    "import nltk\n",
    "from nltk.tokenize import word_tokenize, sent_tokenize\n",
    "nltk.download(\"punkt\")"
   ]
  },
  {
   "cell_type": "code",
   "execution_count": 16,
   "id": "5eb330b7-3a8b-4fc7-b8c9-117bff48d24f",
   "metadata": {},
   "outputs": [
    {
     "data": {
      "text/html": [
       "<div>\n",
       "<style scoped>\n",
       "    .dataframe tbody tr th:only-of-type {\n",
       "        vertical-align: middle;\n",
       "    }\n",
       "\n",
       "    .dataframe tbody tr th {\n",
       "        vertical-align: top;\n",
       "    }\n",
       "\n",
       "    .dataframe thead th {\n",
       "        text-align: right;\n",
       "    }\n",
       "</style>\n",
       "<table border=\"1\" class=\"dataframe\">\n",
       "  <thead>\n",
       "    <tr style=\"text-align: right;\">\n",
       "      <th></th>\n",
       "      <th>Message</th>\n",
       "      <th>Spam/Ham</th>\n",
       "      <th>Length (chars)</th>\n",
       "      <th>numWords</th>\n",
       "      <th>numSentences</th>\n",
       "    </tr>\n",
       "  </thead>\n",
       "  <tbody>\n",
       "    <tr>\n",
       "      <th>1</th>\n",
       "      <td>gary , production from the high island larger ...</td>\n",
       "      <td>0</td>\n",
       "      <td>4282</td>\n",
       "      <td>1572</td>\n",
       "      <td>23</td>\n",
       "    </tr>\n",
       "    <tr>\n",
       "      <th>2</th>\n",
       "      <td>- calpine daily gas nomination 1 . doc</td>\n",
       "      <td>0</td>\n",
       "      <td>38</td>\n",
       "      <td>8</td>\n",
       "      <td>2</td>\n",
       "    </tr>\n",
       "    <tr>\n",
       "      <th>3</th>\n",
       "      <td>fyi - see note below - already done .\\nstella\\...</td>\n",
       "      <td>0</td>\n",
       "      <td>1171</td>\n",
       "      <td>344</td>\n",
       "      <td>7</td>\n",
       "    </tr>\n",
       "    <tr>\n",
       "      <th>4</th>\n",
       "      <td>fyi .\\n- - - - - - - - - - - - - - - - - - - -...</td>\n",
       "      <td>0</td>\n",
       "      <td>1124</td>\n",
       "      <td>318</td>\n",
       "      <td>8</td>\n",
       "    </tr>\n",
       "    <tr>\n",
       "      <th>5</th>\n",
       "      <td>jackie ,\\nsince the inlet to 3 river plant is ...</td>\n",
       "      <td>0</td>\n",
       "      <td>534</td>\n",
       "      <td>119</td>\n",
       "      <td>6</td>\n",
       "    </tr>\n",
       "    <tr>\n",
       "      <th>...</th>\n",
       "      <td>...</td>\n",
       "      <td>...</td>\n",
       "      <td>...</td>\n",
       "      <td>...</td>\n",
       "      <td>...</td>\n",
       "    </tr>\n",
       "    <tr>\n",
       "      <th>33711</th>\n",
       "      <td>hello , welcome to gigapharm onlinne shop .\\np...</td>\n",
       "      <td>1</td>\n",
       "      <td>281</td>\n",
       "      <td>53</td>\n",
       "      <td>6</td>\n",
       "    </tr>\n",
       "    <tr>\n",
       "      <th>33712</th>\n",
       "      <td>i got it earlier than expected and it was wrap...</td>\n",
       "      <td>1</td>\n",
       "      <td>803</td>\n",
       "      <td>163</td>\n",
       "      <td>15</td>\n",
       "    </tr>\n",
       "    <tr>\n",
       "      <th>33713</th>\n",
       "      <td>are you ready to rock on ? let the man in you ...</td>\n",
       "      <td>1</td>\n",
       "      <td>317</td>\n",
       "      <td>67</td>\n",
       "      <td>6</td>\n",
       "    </tr>\n",
       "    <tr>\n",
       "      <th>33714</th>\n",
       "      <td>learn how to last 5 - 10 times longer in\\nbed ...</td>\n",
       "      <td>1</td>\n",
       "      <td>74</td>\n",
       "      <td>20</td>\n",
       "      <td>5</td>\n",
       "    </tr>\n",
       "    <tr>\n",
       "      <th>33715</th>\n",
       "      <td>hi : )\\ndo you need some softwares ? i can giv...</td>\n",
       "      <td>1</td>\n",
       "      <td>304</td>\n",
       "      <td>72</td>\n",
       "      <td>7</td>\n",
       "    </tr>\n",
       "  </tbody>\n",
       "</table>\n",
       "<p>33345 rows × 5 columns</p>\n",
       "</div>"
      ],
      "text/plain": [
       "                                                 Message  Spam/Ham  \\\n",
       "1      gary , production from the high island larger ...         0   \n",
       "2                 - calpine daily gas nomination 1 . doc         0   \n",
       "3      fyi - see note below - already done .\\nstella\\...         0   \n",
       "4      fyi .\\n- - - - - - - - - - - - - - - - - - - -...         0   \n",
       "5      jackie ,\\nsince the inlet to 3 river plant is ...         0   \n",
       "...                                                  ...       ...   \n",
       "33711  hello , welcome to gigapharm onlinne shop .\\np...         1   \n",
       "33712  i got it earlier than expected and it was wrap...         1   \n",
       "33713  are you ready to rock on ? let the man in you ...         1   \n",
       "33714  learn how to last 5 - 10 times longer in\\nbed ...         1   \n",
       "33715  hi : )\\ndo you need some softwares ? i can giv...         1   \n",
       "\n",
       "       Length (chars)  numWords  numSentences  \n",
       "1                4282      1572            23  \n",
       "2                  38         8             2  \n",
       "3                1171       344             7  \n",
       "4                1124       318             8  \n",
       "5                 534       119             6  \n",
       "...               ...       ...           ...  \n",
       "33711             281        53             6  \n",
       "33712             803       163            15  \n",
       "33713             317        67             6  \n",
       "33714              74        20             5  \n",
       "33715             304        72             7  \n",
       "\n",
       "[33345 rows x 5 columns]"
      ]
     },
     "execution_count": 16,
     "metadata": {},
     "output_type": "execute_result"
    }
   ],
   "source": [
    "df[\"Length (chars)\"] = df[\"Message\"].apply(len)\n",
    "df[\"numWords\"] = df[\"Message\"].apply(word_tokenize).apply(len)\n",
    "df[\"numSentences\"] = df[\"Message\"].apply(sent_tokenize).apply(len)\n",
    "df"
   ]
  },
  {
   "cell_type": "code",
   "execution_count": 17,
   "id": "6756cc55-9e5f-41c6-b625-2716b2d9a41d",
   "metadata": {},
   "outputs": [
    {
     "name": "stdout",
     "output_type": "stream",
     "text": [
      "Avg Spam Length: 1295.9418466650843\n",
      "Avg Ham Length: 1681.574304250288\n"
     ]
    },
    {
     "data": {
      "image/png": "[encoded data removed]",
      "text/plain": [
       "<Figure size 1200x800 with 1 Axes>"
      ]
     },
     "metadata": {},
     "output_type": "display_data"
    }
   ],
   "source": [
    "import seaborn as sns\n",
    "avgSpamLength = df[df[\"Spam/Ham\"] == 1][\"Length (chars)\"].mean()\n",
    "avgHamLength = df[df[\"Spam/Ham\"] == 0][\"Length (chars)\"].mean()\n",
    "print(\"Avg Spam Length:\", avgSpamLength)\n",
    "print(\"Avg Ham Length:\", avgHamLength)\n",
    "\n",
    "avgLengths = [avgSpamLength, avgHamLength]\n",
    "labels = [\"Spam\", \"Ham\"]\n",
    "plt.figure(figsize=(12,8))\n",
    "plt.bar(labels, avgLengths, color=[\"blue\", \"orange\"])\n",
    "plt.title(\"Mean Lengths of Emails\")\n",
    "plt.show()"
   ]
  },
  {
   "cell_type": "code",
   "execution_count": 18,
   "id": "d5ff1d33-54d4-40a0-bef2-f2126f9b27ea",
   "metadata": {},
   "outputs": [
    {
     "name": "stdout",
     "output_type": "stream",
     "text": [
      "Avg Spam Number of Words: 258.8433420365535\n",
      "Avg Ham Number of Words: 356.6707694173286\n"
     ]
    },
    {
     "data": {
      "image/png": "[encoded data removed]",
      "text/plain": [
       "<Figure size 1200x800 with 1 Axes>"
      ]
     },
     "metadata": {},
     "output_type": "display_data"
    }
   ],
   "source": [
    "avgSpamNumWords = df[df[\"Spam/Ham\"] == 1][\"numWords\"].mean()\n",
    "avgHamNumWords = df[df[\"Spam/Ham\"] == 0][\"numWords\"].mean()\n",
    "print(\"Avg Spam Number of Words:\", avgSpamNumWords)\n",
    "print(\"Avg Ham Number of Words:\", avgHamNumWords)\n",
    "\n",
    "avgNumWords = [avgSpamNumWords, avgHamNumWords]\n",
    "labels = [\"Spam\", \"Ham\"]\n",
    "plt.figure(figsize=(12,8))\n",
    "plt.bar(labels, avgNumWords, color=[\"blue\", \"orange\"])\n",
    "plt.title(\"Mean Number of Words\")\n",
    "plt.show()"
   ]
  },
  {
   "cell_type": "code",
   "execution_count": 19,
   "id": "643ae8b8-80dc-4b49-85fd-f16fb81019df",
   "metadata": {},
   "outputs": [
    {
     "name": "stdout",
     "output_type": "stream",
     "text": [
      "Avg Spam Number of Sentences: 17.924875385710894\n",
      "Avg Ham Number of Sentences: 19.65591463044928\n"
     ]
    },
    {
     "data": {
      "image/png": "[encoded data removed]",
      "text/plain": [
       "<Figure size 1200x800 with 1 Axes>"
      ]
     },
     "metadata": {},
     "output_type": "display_data"
    }
   ],
   "source": [
    "avgSpamNumSent = df[df[\"Spam/Ham\"] == 1][\"numSentences\"].mean()\n",
    "avgHamNumSent = df[df[\"Spam/Ham\"] == 0][\"numSentences\"].mean()\n",
    "print(\"Avg Spam Number of Sentences:\", avgSpamNumSent)\n",
    "print(\"Avg Ham Number of Sentences:\", avgHamNumSent)\n",
    "\n",
    "avgNumSent = [avgSpamNumSent, avgHamNumSent]\n",
    "labels = [\"Spam\", \"Ham\"]\n",
    "plt.figure(figsize=(12,8))\n",
    "plt.bar(labels, avgNumSent, color=[\"blue\", \"orange\"])\n",
    "plt.title(\"Mean Number of Sentences\")\n",
    "plt.show()"
   ]
  },
  {
   "cell_type": "code",
   "execution_count": 20,
   "id": "eff479c1-1cd4-41e9-bcb5-a7608e39dd91",
   "metadata": {},
   "outputs": [
    {
     "data": {
      "text/html": [
       "<div>\n",
       "<style scoped>\n",
       "    .dataframe tbody tr th:only-of-type {\n",
       "        vertical-align: middle;\n",
       "    }\n",
       "\n",
       "    .dataframe tbody tr th {\n",
       "        vertical-align: top;\n",
       "    }\n",
       "\n",
       "    .dataframe thead th {\n",
       "        text-align: right;\n",
       "    }\n",
       "</style>\n",
       "<table border=\"1\" class=\"dataframe\">\n",
       "  <thead>\n",
       "    <tr style=\"text-align: right;\">\n",
       "      <th></th>\n",
       "      <th>Message</th>\n",
       "      <th>Spam/Ham</th>\n",
       "      <th>Length (chars)</th>\n",
       "      <th>numWords</th>\n",
       "      <th>numSentences</th>\n",
       "    </tr>\n",
       "  </thead>\n",
       "  <tbody>\n",
       "    <tr>\n",
       "      <th>1</th>\n",
       "      <td>gary , production from the high island larger ...</td>\n",
       "      <td>0</td>\n",
       "      <td>4282</td>\n",
       "      <td>1572</td>\n",
       "      <td>23</td>\n",
       "    </tr>\n",
       "    <tr>\n",
       "      <th>2</th>\n",
       "      <td>- calpine daily gas nomination 1 . doc</td>\n",
       "      <td>0</td>\n",
       "      <td>38</td>\n",
       "      <td>8</td>\n",
       "      <td>2</td>\n",
       "    </tr>\n",
       "    <tr>\n",
       "      <th>3</th>\n",
       "      <td>fyi - see note below - already done .\\nstella\\...</td>\n",
       "      <td>0</td>\n",
       "      <td>1171</td>\n",
       "      <td>344</td>\n",
       "      <td>7</td>\n",
       "    </tr>\n",
       "    <tr>\n",
       "      <th>4</th>\n",
       "      <td>fyi .\\n- - - - - - - - - - - - - - - - - - - -...</td>\n",
       "      <td>0</td>\n",
       "      <td>1124</td>\n",
       "      <td>318</td>\n",
       "      <td>8</td>\n",
       "    </tr>\n",
       "    <tr>\n",
       "      <th>5</th>\n",
       "      <td>jackie ,\\nsince the inlet to 3 river plant is ...</td>\n",
       "      <td>0</td>\n",
       "      <td>534</td>\n",
       "      <td>119</td>\n",
       "      <td>6</td>\n",
       "    </tr>\n",
       "    <tr>\n",
       "      <th>...</th>\n",
       "      <td>...</td>\n",
       "      <td>...</td>\n",
       "      <td>...</td>\n",
       "      <td>...</td>\n",
       "      <td>...</td>\n",
       "    </tr>\n",
       "    <tr>\n",
       "      <th>33711</th>\n",
       "      <td>hello , welcome to gigapharm onlinne shop .\\np...</td>\n",
       "      <td>1</td>\n",
       "      <td>281</td>\n",
       "      <td>53</td>\n",
       "      <td>6</td>\n",
       "    </tr>\n",
       "    <tr>\n",
       "      <th>33712</th>\n",
       "      <td>i got it earlier than expected and it was wrap...</td>\n",
       "      <td>1</td>\n",
       "      <td>803</td>\n",
       "      <td>163</td>\n",
       "      <td>15</td>\n",
       "    </tr>\n",
       "    <tr>\n",
       "      <th>33713</th>\n",
       "      <td>are you ready to rock on ? let the man in you ...</td>\n",
       "      <td>1</td>\n",
       "      <td>317</td>\n",
       "      <td>67</td>\n",
       "      <td>6</td>\n",
       "    </tr>\n",
       "    <tr>\n",
       "      <th>33714</th>\n",
       "      <td>learn how to last 5 - 10 times longer in\\nbed ...</td>\n",
       "      <td>1</td>\n",
       "      <td>74</td>\n",
       "      <td>20</td>\n",
       "      <td>5</td>\n",
       "    </tr>\n",
       "    <tr>\n",
       "      <th>33715</th>\n",
       "      <td>hi : )\\ndo you need some softwares ? i can giv...</td>\n",
       "      <td>1</td>\n",
       "      <td>304</td>\n",
       "      <td>72</td>\n",
       "      <td>7</td>\n",
       "    </tr>\n",
       "  </tbody>\n",
       "</table>\n",
       "<p>33345 rows × 5 columns</p>\n",
       "</div>"
      ],
      "text/plain": [
       "                                                 Message  Spam/Ham  \\\n",
       "1      gary , production from the high island larger ...         0   \n",
       "2                 - calpine daily gas nomination 1 . doc         0   \n",
       "3      fyi - see note below - already done .\\nstella\\...         0   \n",
       "4      fyi .\\n- - - - - - - - - - - - - - - - - - - -...         0   \n",
       "5      jackie ,\\nsince the inlet to 3 river plant is ...         0   \n",
       "...                                                  ...       ...   \n",
       "33711  hello , welcome to gigapharm onlinne shop .\\np...         1   \n",
       "33712  i got it earlier than expected and it was wrap...         1   \n",
       "33713  are you ready to rock on ? let the man in you ...         1   \n",
       "33714  learn how to last 5 - 10 times longer in\\nbed ...         1   \n",
       "33715  hi : )\\ndo you need some softwares ? i can giv...         1   \n",
       "\n",
       "       Length (chars)  numWords  numSentences  \n",
       "1                4282      1572            23  \n",
       "2                  38         8             2  \n",
       "3                1171       344             7  \n",
       "4                1124       318             8  \n",
       "5                 534       119             6  \n",
       "...               ...       ...           ...  \n",
       "33711             281        53             6  \n",
       "33712             803       163            15  \n",
       "33713             317        67             6  \n",
       "33714              74        20             5  \n",
       "33715             304        72             7  \n",
       "\n",
       "[33345 rows x 5 columns]"
      ]
     },
     "execution_count": 20,
     "metadata": {},
     "output_type": "execute_result"
    }
   ],
   "source": [
    "df"
   ]
  },
  {
   "cell_type": "code",
   "execution_count": 21,
   "id": "7edd313c-f150-4358-9f10-10c88d41f011",
   "metadata": {},
   "outputs": [
    {
     "name": "stdout",
     "output_type": "stream",
     "text": [
      "                Spam/Ham  Length (chars)  numWords  numSentences\n",
      "Spam/Ham        1.000000       -0.044793 -0.057142     -0.015078\n",
      "Length (chars) -0.044793        1.000000  0.996465      0.840852\n",
      "numWords       -0.057142        0.996465  1.000000      0.862685\n",
      "numSentences   -0.015078        0.840852  0.862685      1.000000\n"
     ]
    }
   ],
   "source": [
    "numeric_df = df.select_dtypes(include=[float, int])\n",
    "corr_matrix = numeric_df.corr()\n",
    "print(corr_matrix)"
   ]
  },
  {
   "cell_type": "markdown",
   "id": "91359f58-0dbe-4164-b77a-eb96603b3d90",
   "metadata": {},
   "source": [
    "# Preprocessing"
   ]
  },
  {
   "cell_type": "code",
   "execution_count": 23,
   "id": "11ea1859-a8f9-4d46-8336-9276798aa60e",
   "metadata": {},
   "outputs": [
    {
     "name": "stdout",
     "output_type": "stream",
     "text": [
      "gary , production from the high island larger block a - 1 # 2 commenced on\n",
      "saturday at 2 : 00 p . m . at about 6 , 500 gross . carlos expects between 9 , 500 and\n",
      "10 , 000 gross for tomorrow . vastar owns 68 % of the gross production .\n",
      "george x 3 - 6992\n",
      "- - - - - - - - - - - - - - - - - - - - - - forwarded by george weissman / hou / ect on 12 / 13 / 99 10 : 16\n",
      "am - - - - - - - - - - - - - - - - - - - - - - - - - - -\n",
      "daren j farmer\n",
      "12 / 10 / 99 10 : 38 am\n",
      "to : carlos j rodriguez / hou / ect @ ect\n",
      "cc : george weissman / hou / ect @ ect , melissa graves / hou / ect @ ect\n",
      "subject : vastar resources , inc .\n",
      "carlos ,\n",
      "please call linda and get everything set up .\n",
      "i ' m going to estimate 4 , 500 coming up tomorrow , with a 2 , 000 increase each\n",
      "following day based on my conversations with bill fischer at bmar .\n",
      "d .\n",
      "- - - - - - - - - - - - - - - - - - - - - - forwarded by daren j farmer / hou / ect on 12 / 10 / 99 10 : 34\n",
      "am - - - - - - - - - - - - - - - - - - - - - - - - - - -\n",
      "enron north america corp .\n",
      "from : george weissman 12 / 10 / 99 10 : 00 am\n",
      "to : daren j farmer / hou / ect @ ect\n",
      "cc : gary bryan / hou / ect @ ect , melissa graves / hou / ect @ ect\n",
      "subject : vastar resources , inc .\n",
      "darren ,\n",
      "the attached appears to be a nomination from vastar resources , inc . for the\n",
      "high island larger block a - 1 # 2 ( previously , erroneously referred to as the\n",
      "# 1 well ) . vastar now expects the well to commence production sometime\n",
      "tomorrow . i told linda harris that we ' d get her a telephone number in gas\n",
      "control so she can provide notification of the turn - on tomorrow . linda ' s\n",
      "numbers , for the record , are 281 . 584 . 3359 voice and 713 . 312 . 1689 fax .\n",
      "would you please see that someone contacts linda and advises her how to\n",
      "submit future nominations via e - mail , fax or voice ? thanks .\n",
      "george x 3 - 6992\n",
      "- - - - - - - - - - - - - - - - - - - - - - forwarded by george weissman / hou / ect on 12 / 10 / 99 09 : 44\n",
      "am - - - - - - - - - - - - - - - - - - - - - - - - - - -\n",
      "\" linda harris \" on 12 / 10 / 99 09 : 38 : 43 am\n",
      "to : george weissman / hou / ect @ ect\n",
      "cc :\n",
      "subject : hi a - 1 # 2\n",
      "effective 12 - 11 - 99\n",
      "| - - - - - - - - + - - - - - - - - - - + - - - - - - - - - - - |\n",
      "| | | |\n",
      "| mscf / d | min ftp | time |\n",
      "| | | |\n",
      "| - - - - - - - - + - - - - - - - - - - + - - - - - - - - - - - |\n",
      "| | | |\n",
      "| 4 , 500 | 9 , 925 | 24 hours |\n",
      "| | | |\n",
      "| - - - - - - - - + - - - - - - - - - - + - - - - - - - - - - - |\n",
      "| | | |\n",
      "| 6 , 000 | 9 , 908 | 24 hours |\n",
      "| | | |\n",
      "| - - - - - - - - + - - - - - - - - - - + - - - - - - - - - - - |\n",
      "| | | |\n",
      "| 8 , 000 | 9 , 878 | 24 hours |\n",
      "| | | |\n",
      "| - - - - - - - - + - - - - - - - - - - + - - - - - - - - - - - |\n",
      "| | | |\n",
      "| 10 , 000 | 9 , 840 | 24 hours |\n",
      "| | | |\n",
      "| - - - - - - - - + - - - - - - - - - - + - - - - - - - - - - - |\n",
      "| | | |\n",
      "| 12 , 000 | 9 , 793 | 24 hours |\n",
      "| | | |\n",
      "| - - - - - - - - + - - - - - - - - - - + - - - - - - - - - - - |\n",
      "| | | |\n",
      "| 14 , 000 | 9 , 738 | 24 hours |\n",
      "| | | |\n",
      "| - - - - - - - - + - - - - - - - - - - + - - - - - - - - - - - |\n",
      "| | | |\n",
      "| 16 , 000 | 9 , 674 | 24 hours |\n",
      "| | | |\n",
      "| - - - - - - - - + - - - - - - - - - - + - - - - - - - - - - - |\n",
      "| | | |\n",
      "| 18 , 000 | 9 , 602 | 24 hours |\n",
      "| | | |\n",
      "| - - - - - - - - + - - - - - - - - - - + - - - - - - - - - - - |\n",
      "| | | |\n",
      "| 20 , 000 | 9 , 521 | 24 hours |\n",
      "| | | |\n",
      "| - - - - - - - - + - - - - - - - - - - + - - - - - - - - - - - |\n",
      "| | | |\n",
      "| 22 , 000 | 9 , 431 | 24 hours |\n",
      "| | | |\n",
      "| - - - - - - - - + - - - - - - - - - - + - - - - - - - - - - - |\n",
      "| | | |\n",
      "| 24 , 000 | 9 , 332 | 24 hours |\n",
      "| | | |\n",
      "| - - - - - - - - + - - - - - - - - - - + - - - - - - - - - - - |\n",
      "| | | |\n",
      "| 26 , 000 | 9 , 224 | 24 hours |\n",
      "| | | |\n",
      "| - - - - - - - - + - - - - - - - - - - + - - - - - - - - - - - |\n",
      "| | | |\n",
      "| 28 , 000 | 9 , 108 | 24 hours |\n",
      "| | | |\n",
      "| - - - - - - - - + - - - - - - - - - - + - - - - - - - - - - - |\n",
      "| | | |\n",
      "| 30 , 000 | 8 , 982 | 24 hours |\n",
      "| | | |\n",
      "| - - - - - - - - + - - - - - - - - - - + - - - - - - - - - - - |\n",
      "| | | |\n",
      "| 32 , 000 | 8 , 847 | 24 hours |\n",
      "| | | |\n",
      "| - - - - - - - - + - - - - - - - - - - + - - - - - - - - - - - |\n",
      "| | | |\n",
      "| 34 , 000 | 8 , 703 | 24 hours |\n",
      "| | | |\n",
      "| - - - - - - - - + - - - - - - - - - - + - - - - - - - - - - - |\n",
      "| | | |\n",
      "| 36 , 000 | 8 , 549 | 24 hours |\n",
      "| | | |\n",
      "| - - - - - - - - + - - - - - - - - - - + - - - - - - - - - - - |\n"
     ]
    }
   ],
   "source": [
    "# Example message\n",
    "print(df.iloc[0][\"Message\"])"
   ]
  },
  {
   "cell_type": "code",
   "execution_count": 24,
   "id": "906b1f52-2276-4f3a-8240-ac3e4a9518c9",
   "metadata": {},
   "outputs": [
    {
     "name": "stdout",
     "output_type": "stream",
     "text": [
      "                                                 Message  Spam/Ham  \\\n",
      "1      gary , production from the high island larger ...         0   \n",
      "3      fyi - see note below - already done .\\nstella\\...         0   \n",
      "4      fyi .\\n- - - - - - - - - - - - - - - - - - - -...         0   \n",
      "7      fyi\\n- - - - - - - - - - - - - - - - - - - - -...         0   \n",
      "11     fyi\\n- - - - - - - - - - - - - - - - - - - - -...         0   \n",
      "...                                                  ...       ...   \n",
      "33586  come explore the world ' s largest adult studi...         1   \n",
      "33595  come explore the world ' s largest adult studi...         1   \n",
      "33602  hi\\ni ` ve found cool site , it is a lot of pr...         1   \n",
      "33622  hi\\ni ` ve found cool site , it is a lot of pr...         1   \n",
      "33640  adqueen is an institute committed\\nto brand pl...         1   \n",
      "\n",
      "       Length (chars)  numWords  numSentences  \n",
      "1                4282      1572            23  \n",
      "3                1171       344             7  \n",
      "4                1124       318             8  \n",
      "7                1375       340             6  \n",
      "11               1032       271             6  \n",
      "...               ...       ...           ...  \n",
      "33586             327        67             7  \n",
      "33595             327        67             7  \n",
      "33602             299        77             6  \n",
      "33622             305        77             6  \n",
      "33640             493       100             6  \n",
      "\n",
      "[5900 rows x 5 columns]\n"
     ]
    }
   ],
   "source": [
    "print(df[df[\"Message\"].str.contains(\"- - - - -\")])"
   ]
  },
  {
   "cell_type": "code",
   "execution_count": 25,
   "id": "6676b7db-c90c-4e5c-be77-14a4c069f3b7",
   "metadata": {},
   "outputs": [
    {
     "name": "stderr",
     "output_type": "stream",
     "text": [
      "[nltk_data] Downloading package stopwords to\n",
      "[nltk_data]     C:\\Users\\leahj\\AppData\\Roaming\\nltk_data...\n",
      "[nltk_data]   Package stopwords is already up-to-date!\n"
     ]
    }
   ],
   "source": [
    "# Tokenize and convert to lowercase\n",
    "# Remove whitespace, newlines, punctuation, special characters, and stop words\n",
    "# Perform stemming (i.e. \"running\" -> \"run\")\n",
    "import re\n",
    "from nltk.corpus import stopwords\n",
    "from nltk.stem import PorterStemmer\n",
    "nltk.download(\"stopwords\")\n",
    "\n",
    "def processMessage(message):\n",
    "    message = message.lower()\n",
    "    message = word_tokenize(message)\n",
    "    message = [word.strip() for word in message]\n",
    "    message = [word.replace(\"\\n\", \"\") for word in message]\n",
    "    message = [re.sub(r\"\\d+\", \"\", word) for word in message]\n",
    "    message = [re.sub(r\"[^a-zA-Z0-9\\s]\", \"\", word) for word in message]\n",
    "    stop_words = set(stopwords.words(\"english\"))\n",
    "    message = [word for word in message if word not in stop_words]\n",
    "    ps = PorterStemmer()\n",
    "    message = [ps.stem(word) for word in message]\n",
    "    return \" \".join(message)"
   ]
  },
  {
   "cell_type": "code",
   "execution_count": 26,
   "id": "20cef14a-c720-4e2d-9385-ec3a06cd1ad6",
   "metadata": {},
   "outputs": [
    {
     "data": {
      "text/plain": [
       "'gari  product high island larger block     commenc saturday    p      gross  carlo expect       gross tomorrow  vastar own   gross product  georg x                          forward georg weissman  hou  ect                                    daren j farmer          carlo j rodriguez  hou  ect  ect cc  georg weissman  hou  ect  ect  melissa grave  hou  ect  ect subject  vastar resourc  inc  carlo  pleas call linda get everyth set   go estim    come tomorrow     increas follow day base convers bill fischer bmar                         forward daren j farmer  hou  ect                                    enron north america corp   georg weissman          daren j farmer  hou  ect  ect cc  gari bryan  hou  ect  ect  melissa grave  hou  ect  ect subject  vastar resourc  inc  darren  attach appear nomin vastar resourc  inc  high island larger block      previous  erron refer   well   vastar expect well commenc product sometim tomorrow  told linda harri  get telephon number ga control provid notif turn  tomorrow  linda  number  record       voic      fax  would pleas see someon contact linda advis submit futur nomin via e  mail  fax voic  thank  georg x                          forward georg weissman  hou  ect                                     linda harri             georg weissman  hou  ect  ect cc  subject  hi     effect                                            mscf   min ftp  time                                                     hour                                                     hour                                                     hour                                                     hour                                                     hour                                                     hour                                                     hour                                                     hour                                                     hour                                                     hour                                                     hour                                                     hour                                                     hour                                                     hour                                                     hour                                                     hour                                                     hour                                      '"
      ]
     },
     "execution_count": 26,
     "metadata": {},
     "output_type": "execute_result"
    }
   ],
   "source": [
    "processMessage(df.iloc[0][\"Message\"])"
   ]
  },
  {
   "cell_type": "code",
   "execution_count": 27,
   "id": "dbb036dc-c356-452c-8f29-3617a9f2ab08",
   "metadata": {},
   "outputs": [],
   "source": [
    "# Apply function to all messages\n",
    "df[\"processedMessage\"] = df[\"Message\"].apply(processMessage)"
   ]
  },
  {
   "cell_type": "code",
   "execution_count": 29,
   "id": "ffa35111-7796-4621-95c3-82636ed07748",
   "metadata": {},
   "outputs": [],
   "source": [
    "# Find the most common words in spam and ham emails"
   ]
  },
  {
   "cell_type": "code",
   "execution_count": 30,
   "id": "6ad73de3-ed42-494d-9f3e-0b7a85206286",
   "metadata": {},
   "outputs": [
    {
     "data": {
      "image/png": "[encoded data removed]",
      "text/plain": [
       "<Figure size 1400x800 with 1 Axes>"
      ]
     },
     "metadata": {},
     "output_type": "display_data"
    }
   ],
   "source": [
    "from collections import Counter\n",
    "# Spam:\n",
    "spam_df = df[df[\"Spam/Ham\"] == 1]\n",
    "spamText = \" \".join(spam_df[\"processedMessage\"])\n",
    "spamWords = word_tokenize(spamText)\n",
    "spamWordFreq = Counter(spamWords)\n",
    "commonSpamWords = pd.DataFrame(spamWordFreq.most_common(20), columns=[\"Word\", \"Freq\"])\n",
    "\n",
    "plt.figure(figsize=(14,8))\n",
    "plt.bar(commonSpamWords[\"Word\"], commonSpamWords[\"Freq\"])\n",
    "plt.title(\"20 Most Common Words in Spam Emails\")\n",
    "plt.show()"
   ]
  },
  {
   "cell_type": "code",
   "execution_count": 31,
   "id": "45b8328d-e659-4ae9-80d5-d285bf9d7c3c",
   "metadata": {},
   "outputs": [
    {
     "data": {
      "image/png": "[encoded data removed]",
      "text/plain": [
       "<Figure size 1400x800 with 1 Axes>"
      ]
     },
     "metadata": {},
     "output_type": "display_data"
    }
   ],
   "source": [
    "# Ham:\n",
    "ham_df = df[df[\"Spam/Ham\"] == 0]\n",
    "hamText = \" \".join(ham_df[\"processedMessage\"])\n",
    "hamWords = word_tokenize(hamText)\n",
    "hamWordFreq = Counter(hamWords)\n",
    "commonHamWords = pd.DataFrame(hamWordFreq.most_common(20), columns=[\"Word\", \"Freq\"])\n",
    "\n",
    "plt.figure(figsize=(14,8))\n",
    "plt.bar(commonHamWords[\"Word\"], commonHamWords[\"Freq\"])\n",
    "plt.title(\"20 Most Common Words in Ham Emails\")\n",
    "plt.show()"
   ]
  },
  {
   "cell_type": "markdown",
   "id": "8f6243e6-5969-4069-ab8e-d99eaebdacd0",
   "metadata": {},
   "source": [
    "# Build the model"
   ]
  },
  {
   "cell_type": "code",
   "execution_count": 43,
   "id": "ce6f1d77-dfb4-4dc9-a020-5df14638b2d3",
   "metadata": {},
   "outputs": [],
   "source": [
    "from sklearn.model_selection import train_test_split # used to split training and testing data\n",
    "from sklearn.feature_extraction.text import TfidfVectorizer\n",
    "x = df[\"processedMessage\"].values\n",
    "y = df[\"Spam/Ham\"].values\n",
    "xTrain, xTest, yTrain, yTest = train_test_split(x, y, test_size = 0.2, random_state = 42)"
   ]
  },
  {
   "cell_type": "code",
   "execution_count": 45,
   "id": "95603bf9-0d7f-4e1a-a55a-08e402c105a2",
   "metadata": {
    "scrolled": true
   },
   "outputs": [
    {
     "data": {
      "text/plain": [
       "array([1, 0, 0, ..., 0, 0, 1], dtype=int64)"
      ]
     },
     "execution_count": 45,
     "metadata": {},
     "output_type": "execute_result"
    }
   ],
   "source": [
    "yTrain"
   ]
  },
  {
   "cell_type": "code",
   "execution_count": 47,
   "id": "0e0085d4-aac3-410e-bdfb-ac1bf5e95af4",
   "metadata": {},
   "outputs": [],
   "source": [
    "tfidf = TfidfVectorizer()\n",
    "xTrain = tfidf.fit_transform(xTrain) # learn the vocab and transform data into matrix of word counts\n",
    "xTest = tfidf.transform(xTest)  # just transform data to matrix of word counts"
   ]
  },
  {
   "cell_type": "code",
   "execution_count": 53,
   "id": "9fee33c1-82a6-4089-b7ee-c7c238cc7410",
   "metadata": {
    "scrolled": true
   },
   "outputs": [
    {
     "name": "stdout",
     "output_type": "stream",
     "text": [
      "Accuracy: 0.9901034637876743\n",
      "Precision: 0.9840142095914742\n",
      "Recall: 0.9964028776978417\n",
      "Classification report:\n",
      "               precision    recall  f1-score   support\n",
      "\n",
      "           0       1.00      0.98      0.99      3333\n",
      "           1       0.98      1.00      0.99      3336\n",
      "\n",
      "    accuracy                           0.99      6669\n",
      "   macro avg       0.99      0.99      0.99      6669\n",
      "weighted avg       0.99      0.99      0.99      6669\n",
      "\n"
     ]
    }
   ],
   "source": [
    "from sklearn.metrics import accuracy_score, confusion_matrix, precision_score, classification_report, recall_score\n",
    "from sklearn.svm import SVC\n",
    "svcModel = SVC(kernel = \"linear\")\n",
    "svcModel.fit(xTrain, yTrain)\n",
    "yPredict = svcModel.predict(xTest)\n",
    "\n",
    "print(\"Accuracy:\", accuracy_score(yTest, yPredict))\n",
    "print(\"Precision:\", precision_score(yTest, yPredict))\n",
    "print(\"Recall:\", recall_score(yTest, yPredict))\n",
    "print(\"Classification report:\\n\", classification_report(yTest, yPredict))"
   ]
  },
  {
   "cell_type": "code",
   "execution_count": 67,
   "id": "caf36692-de2b-4fb8-b5b5-29f0ffdf9669",
   "metadata": {},
   "outputs": [
    {
     "name": "stdout",
     "output_type": "stream",
     "text": [
      "Confusion Matrix (not normalized):\n",
      " [[3279   54]\n",
      " [  12 3324]]\n"
     ]
    },
    {
     "data": {
      "image/png": "[encoded data removed]",
      "text/plain": [
       "<Figure size 640x480 with 2 Axes>"
      ]
     },
     "metadata": {},
     "output_type": "display_data"
    }
   ],
   "source": [
    "# plotting the confusion matrix, adapted from scikit-learn documentation\n",
    "from sklearn.metrics import ConfusionMatrixDisplay\n",
    "cm = confusion_matrix(yTest, yPredict)\n",
    "print(\"Confusion Matrix (not normalized):\\n\", cm)\n",
    "\n",
    "cm = confusion_matrix(yTest, yPredict, normalize = \"true\")\n",
    "cmDisplay = ConfusionMatrixDisplay(confusion_matrix = cm, display_labels = [\"Ham\", \"Spam\"])\n",
    "cmDisplay.plot(cmap = plt.cm.Blues)\n",
    "plt.title(\"Normalized Confusion Matrix\")\n",
    "plt.xlabel(\"Predicted Classification\")\n",
    "plt.ylabel(\"True Classification\")\n",
    "plt.show()"
   ]
  },
  {
   "cell_type": "code",
   "execution_count": 69,
   "id": "af78c22f-b868-4b7f-99f6-ca87111da288",
   "metadata": {},
   "outputs": [],
   "source": [
    "# ^ From left to right, top to bottom: true positive, false negative, false positive, true negative"
   ]
  },
  {
   "cell_type": "markdown",
   "id": "858dc05a-05f0-424c-b18e-4cf3e1be66a9",
   "metadata": {},
   "source": [
    "# Export using joblib"
   ]
  },
  {
   "cell_type": "code",
   "execution_count": 72,
   "id": "218b0c2d-6644-46d1-a40b-796b695dc5c5",
   "metadata": {},
   "outputs": [],
   "source": [
    "import joblib"
   ]
  },
  {
   "cell_type": "code",
   "execution_count": 76,
   "id": "a0943de3-b8e1-4c7d-bfea-3eee3089173d",
   "metadata": {},
   "outputs": [
    {
     "data": {
      "text/plain": [
       "['svc_model.pkl']"
      ]
     },
     "execution_count": 76,
     "metadata": {},
     "output_type": "execute_result"
    }
   ],
   "source": [
    "joblib.dump(svcModel, filename = \"svc_model.pkl\")"
   ]
  },
  {
   "cell_type": "code",
   "execution_count": 78,
   "id": "f8ac1167-c0d0-48c4-8ee4-36f3076face9",
   "metadata": {},
   "outputs": [
    {
     "data": {
      "text/plain": [
       "['tfidf_vectorizer.pkl']"
      ]
     },
     "execution_count": 78,
     "metadata": {},
     "output_type": "execute_result"
    }
   ],
   "source": [
    "joblib.dump(tfidf, filename = \"tfidf_vectorizer.pkl\")"
   ]
  },
  {
   "cell_type": "code",
   "execution_count": null,
   "id": "7124f338-32e0-462e-a7a6-ded3d04456b4",
   "metadata": {},
   "outputs": [],
   "source": []
  }
 ],
 "metadata": {
  "kernelspec": {
   "display_name": "Python 3 (ipykernel)",
   "language": "python",
   "name": "python3"
  },
  "language_info": {
   "codemirror_mode": {
    "name": "ipython",
    "version": 3
   },
   "file_extension": ".py",
   "mimetype": "text/x-python",
   "name": "python",
   "nbconvert_exporter": "python",
   "pygments_lexer": "ipython3",
   "version": "3.11.7"
  }
 },
 "nbformat": 4,
 "nbformat_minor": 5
}
